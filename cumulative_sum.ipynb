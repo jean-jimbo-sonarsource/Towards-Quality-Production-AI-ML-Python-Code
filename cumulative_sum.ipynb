{
 "cells": [
  {
   "cell_type": "code",
   "execution_count": 2,
   "metadata": {
    "vscode": {
     "languageId": "plaintext"
    }
   },
   "outputs": [
    {
     "name": "stderr",
     "output_type": "stream",
     "text": [
      "error: \u001b[0;1;31m\u001b[1mExpression [2]:10:6: \u001b[0m\u001b[1muse of unknown declaration 'spark'\n",
      "\u001b[0mdf = spark.createDataFrame(data, [\"id\", \"category\", \"value\"])\n",
      "\u001b[0;1;32m     ^~~~~\n",
      "\u001b[0m\u001b[0m\n",
      "error: \u001b[0;1;31m\u001b[1mExpression [2]:16:26: \u001b[0m\u001b[1muse of unknown declaration 'df'\n",
      "\u001b[0mdf_with_cumulative_sum = df.withColumn(\"cumulative_sum\", sum(\"value\").over(window_spec))\n",
      "\u001b[0;1;32m                         ^~\n",
      "\u001b[0m\u001b[0m\n",
      "error: \u001b[0;1;31m\u001b[1mExpression [2]:19:1: \u001b[0m\u001b[1muse of unknown declaration 'df_with_cumulative_sum'\n",
      "\u001b[0mdf_with_cumulative_sum.show()\n",
      "\u001b[0;1;32m^~~~~~~~~~~~~~~~~~~~~~\n",
      "\u001b[0m\u001b[0m\n",
      "error: \u001b[0;1;31m\u001b[1mExpression [2]:22:1: \u001b[0m\u001b[1muse of unknown declaration 'spark'\n",
      "\u001b[0mspark.stop()\n",
      "\u001b[0;1;32m^~~~~\n",
      "\u001b[0m\u001b[0m\n",
      "expression failed to parse (no further compiler diagnostics)"
     ]
    }
   ],
   "source": [
    "from pyspark.sql import SparkSession\n",
    "from pyspark.sql.window import Window\n",
    "from pyspark.sql.functions import sum\n",
    "\n",
    "# Initialize Spark session\n",
    "spark = SparkSession.builder.appName(\"Example\").getOrCreate()\n",
    "\n",
    "# Sample data\n",
    "data = [(1, \"A\", 100), (2, \"A\", 200), (3, \"B\", 300)]\n",
    "df = spark.createDataFrame(data, [\"id\", \"category\", \"value\"])\n",
    "\n",
    "# Define window specification\n",
    "window_spec = Window.partitionBy(\"category\").orderBy(\"id\")  # Noncompliant: No explicit frame specified\n",
    "\n",
    "# Add cumulative sum column\n",
    "df_with_cumulative_sum = df.withColumn(\"cumulative_sum\", sum(\"value\").over(window_spec))\n",
    "\n",
    "# Show the result\n",
    "df_with_cumulative_sum.show()\n",
    "\n",
    "# Stop the Spark session\n",
    "spark.stop()"
   ]
  }
 ],
 "metadata": {
  "kernelspec": {
   "display_name": "Mojo",
   "language": "mojo",
   "name": "mojo-jupyter-kernel"
  },
  "language_info": {
   "codemirror_mode": {
    "name": "mojo"
   },
   "file_extension": ".mojo",
   "mimetype": "text/x-mojo",
   "name": "mojo"
  }
 },
 "nbformat": 4,
 "nbformat_minor": 2
}
