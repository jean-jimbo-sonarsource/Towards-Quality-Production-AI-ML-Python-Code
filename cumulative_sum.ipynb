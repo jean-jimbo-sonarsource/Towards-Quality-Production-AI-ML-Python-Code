{
 "cells": [
  {
   "cell_type": "code",
   "execution_count": null,
   "metadata": {
    "vscode": {
     "languageId": "plaintext"
    }
   },
   "outputs": [],
   "source": [
    "from pyspark.sql import SparkSession\n",
    "from pyspark.sql.window import Window\n",
    "from pyspark.sql.functions import sum\n",
    "\n",
    "# Initialize Spark session\n",
    "spark = SparkSession.builder.appName(\"Example\").getOrCreate()\n",
    "\n",
    "# Sample data\n",
    "data = [(1, \"A\", 100), (2, \"A\", 200), (3, \"B\", 300)]\n",
    "df = spark.createDataFrame(data, [\"id\", \"category\", \"value\"])\n",
    "\n",
    "# Define window specification\n",
    "window_spec = Window.partitionBy(\"category\").orderBy(\"id\")  # Noncompliant: No explicit frame specified\n",
    "\n",
    "# Add cumulative sum column\n",
    "df_with_cumulative_sum = df.withColumn(\"cumulative_sum\", sum(\"value\").over(window_spec))\n",
    "\n",
    "# Show the result\n",
    "df_with_cumulative_sum.show()\n",
    "\n",
    "# Stop the Spark session\n",
    "spark.stop()"
   ]
  },
  {
   "cell_type": "code",
   "execution_count": null,
   "metadata": {
    "vscode": {
     "languageId": "plaintext"
    }
   },
   "outputs": [],
   "source": []
  }
 ],
 "metadata": {
  "language_info": {
   "name": "python"
  }
 },
 "nbformat": 4,
 "nbformat_minor": 2
}
